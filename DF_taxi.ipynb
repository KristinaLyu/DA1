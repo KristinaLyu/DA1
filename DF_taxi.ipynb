{
 "cells": [
  {
   "cell_type": "code",
   "execution_count": null,
   "id": "8bd17a90",
   "metadata": {},
   "outputs": [],
   "source": [
    "import pandas as pd\n",
    "taxi = pd.read_csv('~/')"
   ]
  },
  {
   "cell_type": "code",
   "execution_count": 2,
   "id": "3c2cab62",
   "metadata": {},
   "outputs": [],
   "source": [
    "#Импорт библиотеки pandas и загрузка данных из файла\n",
    "import pandas as pd\n",
    "taxi = pd.read_csv('C:/Users/мой компьютер/Downloads/2_taxi_nyc.csv')"
   ]
  },
  {
   "cell_type": "code",
   "execution_count": 3,
   "id": "084c2bc9",
   "metadata": {},
   "outputs": [
    {
     "data": {
      "text/plain": [
       "(29101, 14)"
      ]
     },
     "execution_count": 3,
     "metadata": {},
     "output_type": "execute_result"
    }
   ],
   "source": [
    "#Обращение к атрибуту shape, чтобы узнать размер таблицы(датафрэйма)\n",
    "taxi.shape"
   ]
  },
  {
   "cell_type": "code",
   "execution_count": 4,
   "id": "c90bacef",
   "metadata": {},
   "outputs": [
    {
     "data": {
      "text/plain": [
       "pickup_dt        object\n",
       "pickup_month     object\n",
       "borough          object\n",
       "pickups           int64\n",
       "hday             object\n",
       "spd             float64\n",
       "vsb             float64\n",
       "temp            float64\n",
       "dewp            float64\n",
       "slp             float64\n",
       "pcp 01          float64\n",
       "pcp 06          float64\n",
       "pcp 24          float64\n",
       "sd              float64\n",
       "dtype: object"
      ]
     },
     "execution_count": 4,
     "metadata": {},
     "output_type": "execute_result"
    }
   ],
   "source": [
    "#Атрибут dtypes, чтобы узнать типы колонок в датасете, преобладает тип float64\n",
    "taxi.dtypes"
   ]
  },
  {
   "cell_type": "code",
   "execution_count": 5,
   "id": "8687da4c",
   "metadata": {},
   "outputs": [
    {
     "data": {
      "text/html": [
       "<div>\n",
       "<style scoped>\n",
       "    .dataframe tbody tr th:only-of-type {\n",
       "        vertical-align: middle;\n",
       "    }\n",
       "\n",
       "    .dataframe tbody tr th {\n",
       "        vertical-align: top;\n",
       "    }\n",
       "\n",
       "    .dataframe thead th {\n",
       "        text-align: right;\n",
       "    }\n",
       "</style>\n",
       "<table border=\"1\" class=\"dataframe\">\n",
       "  <thead>\n",
       "    <tr style=\"text-align: right;\">\n",
       "      <th></th>\n",
       "      <th>pickup_dt</th>\n",
       "      <th>pickup_month</th>\n",
       "      <th>borough</th>\n",
       "      <th>pickups</th>\n",
       "      <th>hday</th>\n",
       "      <th>spd</th>\n",
       "      <th>vsb</th>\n",
       "      <th>temp</th>\n",
       "      <th>dewp</th>\n",
       "      <th>slp</th>\n",
       "      <th>pcp 01</th>\n",
       "      <th>pcp 06</th>\n",
       "      <th>pcp 24</th>\n",
       "      <th>sd</th>\n",
       "    </tr>\n",
       "  </thead>\n",
       "  <tbody>\n",
       "    <tr>\n",
       "      <th>0</th>\n",
       "      <td>2015-01-01 01:00:00</td>\n",
       "      <td>Jan</td>\n",
       "      <td>Bronx</td>\n",
       "      <td>152</td>\n",
       "      <td>Y</td>\n",
       "      <td>5.0</td>\n",
       "      <td>10.0</td>\n",
       "      <td>30.0</td>\n",
       "      <td>7.0</td>\n",
       "      <td>1023.5</td>\n",
       "      <td>0.0</td>\n",
       "      <td>0.0</td>\n",
       "      <td>0.0</td>\n",
       "      <td>0.0</td>\n",
       "    </tr>\n",
       "    <tr>\n",
       "      <th>1</th>\n",
       "      <td>2015-01-01 01:00:00</td>\n",
       "      <td>Jan</td>\n",
       "      <td>Brooklyn</td>\n",
       "      <td>1519</td>\n",
       "      <td>Y</td>\n",
       "      <td>5.0</td>\n",
       "      <td>10.0</td>\n",
       "      <td>30.0</td>\n",
       "      <td>7.0</td>\n",
       "      <td>1023.5</td>\n",
       "      <td>0.0</td>\n",
       "      <td>0.0</td>\n",
       "      <td>0.0</td>\n",
       "      <td>0.0</td>\n",
       "    </tr>\n",
       "    <tr>\n",
       "      <th>2</th>\n",
       "      <td>2015-01-01 01:00:00</td>\n",
       "      <td>Jan</td>\n",
       "      <td>EWR</td>\n",
       "      <td>0</td>\n",
       "      <td>Y</td>\n",
       "      <td>5.0</td>\n",
       "      <td>10.0</td>\n",
       "      <td>30.0</td>\n",
       "      <td>7.0</td>\n",
       "      <td>1023.5</td>\n",
       "      <td>0.0</td>\n",
       "      <td>0.0</td>\n",
       "      <td>0.0</td>\n",
       "      <td>0.0</td>\n",
       "    </tr>\n",
       "    <tr>\n",
       "      <th>3</th>\n",
       "      <td>2015-01-01 01:00:00</td>\n",
       "      <td>Jan</td>\n",
       "      <td>Manhattan</td>\n",
       "      <td>5258</td>\n",
       "      <td>Y</td>\n",
       "      <td>5.0</td>\n",
       "      <td>10.0</td>\n",
       "      <td>30.0</td>\n",
       "      <td>7.0</td>\n",
       "      <td>1023.5</td>\n",
       "      <td>0.0</td>\n",
       "      <td>0.0</td>\n",
       "      <td>0.0</td>\n",
       "      <td>0.0</td>\n",
       "    </tr>\n",
       "    <tr>\n",
       "      <th>4</th>\n",
       "      <td>2015-01-01 01:00:00</td>\n",
       "      <td>Jan</td>\n",
       "      <td>Queens</td>\n",
       "      <td>405</td>\n",
       "      <td>Y</td>\n",
       "      <td>5.0</td>\n",
       "      <td>10.0</td>\n",
       "      <td>30.0</td>\n",
       "      <td>7.0</td>\n",
       "      <td>1023.5</td>\n",
       "      <td>0.0</td>\n",
       "      <td>0.0</td>\n",
       "      <td>0.0</td>\n",
       "      <td>0.0</td>\n",
       "    </tr>\n",
       "  </tbody>\n",
       "</table>\n",
       "</div>"
      ],
      "text/plain": [
       "             pickup_dt pickup_month    borough  pickups hday  spd   vsb  temp  \\\n",
       "0  2015-01-01 01:00:00          Jan      Bronx      152    Y  5.0  10.0  30.0   \n",
       "1  2015-01-01 01:00:00          Jan   Brooklyn     1519    Y  5.0  10.0  30.0   \n",
       "2  2015-01-01 01:00:00          Jan        EWR        0    Y  5.0  10.0  30.0   \n",
       "3  2015-01-01 01:00:00          Jan  Manhattan     5258    Y  5.0  10.0  30.0   \n",
       "4  2015-01-01 01:00:00          Jan     Queens      405    Y  5.0  10.0  30.0   \n",
       "\n",
       "   dewp     slp  pcp 01  pcp 06  pcp 24   sd  \n",
       "0   7.0  1023.5     0.0     0.0     0.0  0.0  \n",
       "1   7.0  1023.5     0.0     0.0     0.0  0.0  \n",
       "2   7.0  1023.5     0.0     0.0     0.0  0.0  \n",
       "3   7.0  1023.5     0.0     0.0     0.0  0.0  \n",
       "4   7.0  1023.5     0.0     0.0     0.0  0.0  "
      ]
     },
     "execution_count": 5,
     "metadata": {},
     "output_type": "execute_result"
    }
   ],
   "source": [
    "taxi.head(5)"
   ]
  },
  {
   "cell_type": "code",
   "execution_count": 6,
   "id": "49949cab",
   "metadata": {},
   "outputs": [
    {
     "data": {
      "text/plain": [
       "Index(['pickup_dt', 'pickup_month', 'borough', 'pickups', 'hday', 'spd', 'vsb',\n",
       "       'temp', 'dewp', 'slp', 'pcp 01', 'pcp 06', 'pcp 24', 'sd'],\n",
       "      dtype='object')"
      ]
     },
     "execution_count": 6,
     "metadata": {},
     "output_type": "execute_result"
    }
   ],
   "source": [
    "#Текущие названия колонок\n",
    "taxi.columns"
   ]
  },
  {
   "cell_type": "code",
   "execution_count": 7,
   "id": "4f0ed6e6",
   "metadata": {},
   "outputs": [],
   "source": [
    "#Переименование колонок 'pcp 01', 'pcp 06', 'pcp 24'\n",
    "\n",
    "taxi = taxi.rename(columns = {'pickup_dt': 'pickup_dt', \n",
    "                   'pickup_month': 'pickup_month', \n",
    "                   'borough': 'borough', \n",
    "                   'pickups': 'pickups', \n",
    "                   'hday': 'hday', \n",
    "                   'spd': 'spd', \n",
    "                   'vsb': 'vsb',\n",
    "                   'temp': 'temp', \n",
    "                   'dewp': 'dewp', \n",
    "                   'slp': 'slp', \n",
    "                   'pcp 01': 'pcp_01', \n",
    "                   'pcp 06': 'pcp_06', \n",
    "                   'pcp 24': 'pcp_24', \n",
    "                   'sd': 'sd'})"
   ]
  },
  {
   "cell_type": "code",
   "execution_count": 8,
   "id": "9e83b322",
   "metadata": {},
   "outputs": [
    {
     "data": {
      "text/html": [
       "<div>\n",
       "<style scoped>\n",
       "    .dataframe tbody tr th:only-of-type {\n",
       "        vertical-align: middle;\n",
       "    }\n",
       "\n",
       "    .dataframe tbody tr th {\n",
       "        vertical-align: top;\n",
       "    }\n",
       "\n",
       "    .dataframe thead th {\n",
       "        text-align: right;\n",
       "    }\n",
       "</style>\n",
       "<table border=\"1\" class=\"dataframe\">\n",
       "  <thead>\n",
       "    <tr style=\"text-align: right;\">\n",
       "      <th></th>\n",
       "      <th>pickup_dt</th>\n",
       "      <th>pickup_month</th>\n",
       "      <th>borough</th>\n",
       "      <th>pickups</th>\n",
       "      <th>hday</th>\n",
       "      <th>spd</th>\n",
       "      <th>vsb</th>\n",
       "      <th>temp</th>\n",
       "      <th>dewp</th>\n",
       "      <th>slp</th>\n",
       "      <th>pcp_01</th>\n",
       "      <th>pcp_06</th>\n",
       "      <th>pcp_24</th>\n",
       "      <th>sd</th>\n",
       "    </tr>\n",
       "  </thead>\n",
       "  <tbody>\n",
       "    <tr>\n",
       "      <th>0</th>\n",
       "      <td>2015-01-01 01:00:00</td>\n",
       "      <td>Jan</td>\n",
       "      <td>Bronx</td>\n",
       "      <td>152</td>\n",
       "      <td>Y</td>\n",
       "      <td>5.0</td>\n",
       "      <td>10.0</td>\n",
       "      <td>30.0</td>\n",
       "      <td>7.0</td>\n",
       "      <td>1023.5</td>\n",
       "      <td>0.0</td>\n",
       "      <td>0.0</td>\n",
       "      <td>0.0</td>\n",
       "      <td>0.0</td>\n",
       "    </tr>\n",
       "    <tr>\n",
       "      <th>1</th>\n",
       "      <td>2015-01-01 01:00:00</td>\n",
       "      <td>Jan</td>\n",
       "      <td>Brooklyn</td>\n",
       "      <td>1519</td>\n",
       "      <td>Y</td>\n",
       "      <td>5.0</td>\n",
       "      <td>10.0</td>\n",
       "      <td>30.0</td>\n",
       "      <td>7.0</td>\n",
       "      <td>1023.5</td>\n",
       "      <td>0.0</td>\n",
       "      <td>0.0</td>\n",
       "      <td>0.0</td>\n",
       "      <td>0.0</td>\n",
       "    </tr>\n",
       "    <tr>\n",
       "      <th>2</th>\n",
       "      <td>2015-01-01 01:00:00</td>\n",
       "      <td>Jan</td>\n",
       "      <td>EWR</td>\n",
       "      <td>0</td>\n",
       "      <td>Y</td>\n",
       "      <td>5.0</td>\n",
       "      <td>10.0</td>\n",
       "      <td>30.0</td>\n",
       "      <td>7.0</td>\n",
       "      <td>1023.5</td>\n",
       "      <td>0.0</td>\n",
       "      <td>0.0</td>\n",
       "      <td>0.0</td>\n",
       "      <td>0.0</td>\n",
       "    </tr>\n",
       "    <tr>\n",
       "      <th>3</th>\n",
       "      <td>2015-01-01 01:00:00</td>\n",
       "      <td>Jan</td>\n",
       "      <td>Manhattan</td>\n",
       "      <td>5258</td>\n",
       "      <td>Y</td>\n",
       "      <td>5.0</td>\n",
       "      <td>10.0</td>\n",
       "      <td>30.0</td>\n",
       "      <td>7.0</td>\n",
       "      <td>1023.5</td>\n",
       "      <td>0.0</td>\n",
       "      <td>0.0</td>\n",
       "      <td>0.0</td>\n",
       "      <td>0.0</td>\n",
       "    </tr>\n",
       "    <tr>\n",
       "      <th>4</th>\n",
       "      <td>2015-01-01 01:00:00</td>\n",
       "      <td>Jan</td>\n",
       "      <td>Queens</td>\n",
       "      <td>405</td>\n",
       "      <td>Y</td>\n",
       "      <td>5.0</td>\n",
       "      <td>10.0</td>\n",
       "      <td>30.0</td>\n",
       "      <td>7.0</td>\n",
       "      <td>1023.5</td>\n",
       "      <td>0.0</td>\n",
       "      <td>0.0</td>\n",
       "      <td>0.0</td>\n",
       "      <td>0.0</td>\n",
       "    </tr>\n",
       "  </tbody>\n",
       "</table>\n",
       "</div>"
      ],
      "text/plain": [
       "             pickup_dt pickup_month    borough  pickups hday  spd   vsb  temp  \\\n",
       "0  2015-01-01 01:00:00          Jan      Bronx      152    Y  5.0  10.0  30.0   \n",
       "1  2015-01-01 01:00:00          Jan   Brooklyn     1519    Y  5.0  10.0  30.0   \n",
       "2  2015-01-01 01:00:00          Jan        EWR        0    Y  5.0  10.0  30.0   \n",
       "3  2015-01-01 01:00:00          Jan  Manhattan     5258    Y  5.0  10.0  30.0   \n",
       "4  2015-01-01 01:00:00          Jan     Queens      405    Y  5.0  10.0  30.0   \n",
       "\n",
       "   dewp     slp  pcp_01  pcp_06  pcp_24   sd  \n",
       "0   7.0  1023.5     0.0     0.0     0.0  0.0  \n",
       "1   7.0  1023.5     0.0     0.0     0.0  0.0  \n",
       "2   7.0  1023.5     0.0     0.0     0.0  0.0  \n",
       "3   7.0  1023.5     0.0     0.0     0.0  0.0  \n",
       "4   7.0  1023.5     0.0     0.0     0.0  0.0  "
      ]
     },
     "execution_count": 8,
     "metadata": {},
     "output_type": "execute_result"
    }
   ],
   "source": [
    "#Проверка корректности изменения названий\n",
    "taxi.head(5)"
   ]
  },
  {
   "cell_type": "code",
   "execution_count": 9,
   "id": "c40c5cb2",
   "metadata": {},
   "outputs": [
    {
     "data": {
      "text/plain": [
       "Bronx            4343\n",
       "Brooklyn         4343\n",
       "EWR              4343\n",
       "Manhattan        4343\n",
       "Queens           4343\n",
       "Staten Island    4343\n",
       "Name: borough, dtype: int64"
      ]
     },
     "execution_count": 9,
     "metadata": {},
     "output_type": "execute_result"
    }
   ],
   "source": [
    "#Сколько записей(строк) в датафрэйме относится к каждому из районов\n",
    "taxi.borough.value_counts()"
   ]
  },
  {
   "cell_type": "code",
   "execution_count": 10,
   "id": "53a73dbe",
   "metadata": {},
   "outputs": [
    {
     "data": {
      "text/plain": [
       "14265773"
      ]
     },
     "execution_count": 10,
     "metadata": {},
     "output_type": "execute_result"
    }
   ],
   "source": [
    "#Суммарное количество заказов такси\n",
    "taxi.pickups.sum()"
   ]
  },
  {
   "cell_type": "code",
   "execution_count": 17,
   "id": "8d28faef",
   "metadata": {},
   "outputs": [
    {
     "data": {
      "text/html": [
       "<div>\n",
       "<style scoped>\n",
       "    .dataframe tbody tr th:only-of-type {\n",
       "        vertical-align: middle;\n",
       "    }\n",
       "\n",
       "    .dataframe tbody tr th {\n",
       "        vertical-align: top;\n",
       "    }\n",
       "\n",
       "    .dataframe thead th {\n",
       "        text-align: right;\n",
       "    }\n",
       "</style>\n",
       "<table border=\"1\" class=\"dataframe\">\n",
       "  <thead>\n",
       "    <tr style=\"text-align: right;\">\n",
       "      <th></th>\n",
       "      <th>borough</th>\n",
       "      <th>pickups</th>\n",
       "    </tr>\n",
       "  </thead>\n",
       "  <tbody>\n",
       "    <tr>\n",
       "      <th>0</th>\n",
       "      <td>Bronx</td>\n",
       "      <td>220047</td>\n",
       "    </tr>\n",
       "    <tr>\n",
       "      <th>1</th>\n",
       "      <td>Brooklyn</td>\n",
       "      <td>2321035</td>\n",
       "    </tr>\n",
       "    <tr>\n",
       "      <th>2</th>\n",
       "      <td>EWR</td>\n",
       "      <td>105</td>\n",
       "    </tr>\n",
       "    <tr>\n",
       "      <th>3</th>\n",
       "      <td>Manhattan</td>\n",
       "      <td>10367841</td>\n",
       "    </tr>\n",
       "    <tr>\n",
       "      <th>4</th>\n",
       "      <td>Queens</td>\n",
       "      <td>1343528</td>\n",
       "    </tr>\n",
       "    <tr>\n",
       "      <th>5</th>\n",
       "      <td>Staten Island</td>\n",
       "      <td>6957</td>\n",
       "    </tr>\n",
       "  </tbody>\n",
       "</table>\n",
       "</div>"
      ],
      "text/plain": [
       "         borough   pickups\n",
       "0          Bronx    220047\n",
       "1       Brooklyn   2321035\n",
       "2            EWR       105\n",
       "3      Manhattan  10367841\n",
       "4         Queens   1343528\n",
       "5  Staten Island      6957"
      ]
     },
     "execution_count": 17,
     "metadata": {},
     "output_type": "execute_result"
    }
   ],
   "source": [
    "#Сумма заказов такси по районам\n",
    "taxi.groupby('borough', as_index=False)\\\n",
    "        .agg({'pickups': 'sum'})"
   ]
  },
  {
   "cell_type": "code",
   "execution_count": 18,
   "id": "98eb8c32",
   "metadata": {},
   "outputs": [
    {
     "data": {
      "text/plain": [
       "borough\n",
       "Bronx              220047\n",
       "Brooklyn          2321035\n",
       "EWR                   105\n",
       "Manhattan        10367841\n",
       "Queens            1343528\n",
       "Staten Island        6957\n",
       "Name: pickups, dtype: int64"
      ]
     },
     "execution_count": 18,
     "metadata": {},
     "output_type": "execute_result"
    }
   ],
   "source": [
    "#Сумма заказов такси по районам (вызов метода в одну строку)\n",
    "taxi.groupby('borough').pickups.sum()"
   ]
  },
  {
   "cell_type": "code",
   "execution_count": 22,
   "id": "e1819bfd",
   "metadata": {},
   "outputs": [
    {
     "data": {
      "text/plain": [
       "'EWR'"
      ]
     },
     "execution_count": 22,
     "metadata": {},
     "output_type": "execute_result"
    }
   ],
   "source": [
    "#Район, из которого меньше всего поездок, записываем в переменную min_pickups\n",
    "min_pickups = taxi.groupby('borough').pickups.sum().idxmin()"
   ]
  },
  {
   "cell_type": "code",
   "execution_count": 76,
   "id": "443249db",
   "metadata": {},
   "outputs": [
    {
     "data": {
      "text/html": [
       "<div>\n",
       "<style scoped>\n",
       "    .dataframe tbody tr th:only-of-type {\n",
       "        vertical-align: middle;\n",
       "    }\n",
       "\n",
       "    .dataframe tbody tr th {\n",
       "        vertical-align: top;\n",
       "    }\n",
       "\n",
       "    .dataframe thead th {\n",
       "        text-align: right;\n",
       "    }\n",
       "</style>\n",
       "<table border=\"1\" class=\"dataframe\">\n",
       "  <thead>\n",
       "    <tr style=\"text-align: right;\">\n",
       "      <th></th>\n",
       "      <th></th>\n",
       "      <th>pickups</th>\n",
       "    </tr>\n",
       "    <tr>\n",
       "      <th>borough</th>\n",
       "      <th>hday</th>\n",
       "      <th></th>\n",
       "    </tr>\n",
       "  </thead>\n",
       "  <tbody>\n",
       "    <tr>\n",
       "      <th rowspan=\"2\" valign=\"top\">Bronx</th>\n",
       "      <th>N</th>\n",
       "      <td>50.771073</td>\n",
       "    </tr>\n",
       "    <tr>\n",
       "      <th>Y</th>\n",
       "      <td>48.065868</td>\n",
       "    </tr>\n",
       "    <tr>\n",
       "      <th rowspan=\"2\" valign=\"top\">Brooklyn</th>\n",
       "      <th>N</th>\n",
       "      <td>534.727969</td>\n",
       "    </tr>\n",
       "    <tr>\n",
       "      <th>Y</th>\n",
       "      <td>527.011976</td>\n",
       "    </tr>\n",
       "    <tr>\n",
       "      <th rowspan=\"2\" valign=\"top\">EWR</th>\n",
       "      <th>N</th>\n",
       "      <td>0.023467</td>\n",
       "    </tr>\n",
       "    <tr>\n",
       "      <th>Y</th>\n",
       "      <td>0.041916</td>\n",
       "    </tr>\n",
       "    <tr>\n",
       "      <th rowspan=\"2\" valign=\"top\">Manhattan</th>\n",
       "      <th>N</th>\n",
       "      <td>2401.302921</td>\n",
       "    </tr>\n",
       "    <tr>\n",
       "      <th>Y</th>\n",
       "      <td>2035.928144</td>\n",
       "    </tr>\n",
       "    <tr>\n",
       "      <th rowspan=\"2\" valign=\"top\">Queens</th>\n",
       "      <th>N</th>\n",
       "      <td>308.899904</td>\n",
       "    </tr>\n",
       "    <tr>\n",
       "      <th>Y</th>\n",
       "      <td>320.730539</td>\n",
       "    </tr>\n",
       "    <tr>\n",
       "      <th rowspan=\"2\" valign=\"top\">Staten Island</th>\n",
       "      <th>N</th>\n",
       "      <td>1.606082</td>\n",
       "    </tr>\n",
       "    <tr>\n",
       "      <th>Y</th>\n",
       "      <td>1.497006</td>\n",
       "    </tr>\n",
       "  </tbody>\n",
       "</table>\n",
       "</div>"
      ],
      "text/plain": [
       "                        pickups\n",
       "borough       hday             \n",
       "Bronx         N       50.771073\n",
       "              Y       48.065868\n",
       "Brooklyn      N      534.727969\n",
       "              Y      527.011976\n",
       "EWR           N        0.023467\n",
       "              Y        0.041916\n",
       "Manhattan     N     2401.302921\n",
       "              Y     2035.928144\n",
       "Queens        N      308.899904\n",
       "              Y      320.730539\n",
       "Staten Island N        1.606082\n",
       "              Y        1.497006"
      ]
     },
     "execution_count": 76,
     "metadata": {},
     "output_type": "execute_result"
    }
   ],
   "source": [
    "#Среднее количество поездок по районам в выходные и рабочие дни\n",
    "taxi.groupby(['borough', 'hday'])\\\n",
    "        .agg({'pickups': 'mean'})"
   ]
  },
  {
   "cell_type": "code",
   "execution_count": 23,
   "id": "89f9e64b",
   "metadata": {},
   "outputs": [
    {
     "data": {
      "text/html": [
       "<div>\n",
       "<style scoped>\n",
       "    .dataframe tbody tr th:only-of-type {\n",
       "        vertical-align: middle;\n",
       "    }\n",
       "\n",
       "    .dataframe tbody tr th {\n",
       "        vertical-align: top;\n",
       "    }\n",
       "\n",
       "    .dataframe thead th {\n",
       "        text-align: right;\n",
       "    }\n",
       "</style>\n",
       "<table border=\"1\" class=\"dataframe\">\n",
       "  <thead>\n",
       "    <tr style=\"text-align: right;\">\n",
       "      <th></th>\n",
       "      <th></th>\n",
       "      <th>pickups</th>\n",
       "    </tr>\n",
       "    <tr>\n",
       "      <th>borough</th>\n",
       "      <th>hday</th>\n",
       "      <th></th>\n",
       "    </tr>\n",
       "  </thead>\n",
       "  <tbody>\n",
       "    <tr>\n",
       "      <th rowspan=\"2\" valign=\"top\">Bronx</th>\n",
       "      <th>N</th>\n",
       "      <td>50.771073</td>\n",
       "    </tr>\n",
       "    <tr>\n",
       "      <th>Y</th>\n",
       "      <td>48.065868</td>\n",
       "    </tr>\n",
       "    <tr>\n",
       "      <th rowspan=\"2\" valign=\"top\">Brooklyn</th>\n",
       "      <th>N</th>\n",
       "      <td>534.727969</td>\n",
       "    </tr>\n",
       "    <tr>\n",
       "      <th>Y</th>\n",
       "      <td>527.011976</td>\n",
       "    </tr>\n",
       "    <tr>\n",
       "      <th rowspan=\"2\" valign=\"top\">EWR</th>\n",
       "      <th>N</th>\n",
       "      <td>0.023467</td>\n",
       "    </tr>\n",
       "    <tr>\n",
       "      <th>Y</th>\n",
       "      <td>0.041916</td>\n",
       "    </tr>\n",
       "    <tr>\n",
       "      <th rowspan=\"2\" valign=\"top\">Manhattan</th>\n",
       "      <th>N</th>\n",
       "      <td>2401.302921</td>\n",
       "    </tr>\n",
       "    <tr>\n",
       "      <th>Y</th>\n",
       "      <td>2035.928144</td>\n",
       "    </tr>\n",
       "    <tr>\n",
       "      <th rowspan=\"2\" valign=\"top\">Queens</th>\n",
       "      <th>N</th>\n",
       "      <td>308.899904</td>\n",
       "    </tr>\n",
       "    <tr>\n",
       "      <th>Y</th>\n",
       "      <td>320.730539</td>\n",
       "    </tr>\n",
       "    <tr>\n",
       "      <th rowspan=\"2\" valign=\"top\">Staten Island</th>\n",
       "      <th>N</th>\n",
       "      <td>1.606082</td>\n",
       "    </tr>\n",
       "    <tr>\n",
       "      <th>Y</th>\n",
       "      <td>1.497006</td>\n",
       "    </tr>\n",
       "  </tbody>\n",
       "</table>\n",
       "</div>"
      ],
      "text/plain": [
       "                        pickups\n",
       "borough       hday             \n",
       "Bronx         N       50.771073\n",
       "              Y       48.065868\n",
       "Brooklyn      N      534.727969\n",
       "              Y      527.011976\n",
       "EWR           N        0.023467\n",
       "              Y        0.041916\n",
       "Manhattan     N     2401.302921\n",
       "              Y     2035.928144\n",
       "Queens        N      308.899904\n",
       "              Y      320.730539\n",
       "Staten Island N        1.606082\n",
       "              Y        1.497006"
      ]
     },
     "execution_count": 23,
     "metadata": {},
     "output_type": "execute_result"
    }
   ],
   "source": [
    "#Среднее количество поездок по районам в выходные и рабочие дни(в одну строку)\n",
    "taxi.groupby(['borough', 'hday']).pickups.mean().to_frame()"
   ]
  },
  {
   "cell_type": "code",
   "execution_count": 24,
   "id": "ad64456b",
   "metadata": {
    "scrolled": true
   },
   "outputs": [],
   "source": [
    "#Суммарное количество поездок по районам и месяцам, в убывающем порядке по количеству\n",
    "pickups_by_mon_bor = taxi.groupby(['pickup_month', 'borough'], as_index=False)\\\n",
    "                                    .agg({'pickups': 'sum'})\\\n",
    "                                    .sort_values('pickups', ascending=False)"
   ]
  },
  {
   "cell_type": "code",
   "execution_count": 25,
   "id": "9ce943f7",
   "metadata": {
    "scrolled": true
   },
   "outputs": [
    {
     "name": "stdout",
     "output_type": "stream",
     "text": [
      "   pickup_month        borough  pickups\n",
      "21          Jun      Manhattan  1995388\n",
      "33          May      Manhattan  1888800\n",
      "9           Feb      Manhattan  1718571\n",
      "27          Mar      Manhattan  1661261\n",
      "3           Apr      Manhattan  1648278\n",
      "15          Jan      Manhattan  1455543\n",
      "19          Jun       Brooklyn   482466\n",
      "31          May       Brooklyn   476087\n",
      "1           Apr       Brooklyn   378095\n",
      "25          Mar       Brooklyn   346726\n",
      "7           Feb       Brooklyn   328650\n",
      "13          Jan       Brooklyn   309011\n",
      "22          Jun         Queens   286311\n",
      "34          May         Queens   275893\n",
      "28          Mar         Queens   219561\n",
      "4           Apr         Queens   216857\n",
      "10          Feb         Queens   185695\n",
      "16          Jan         Queens   159211\n",
      "30          May          Bronx    53037\n",
      "18          Jun          Bronx    49006\n",
      "0           Apr          Bronx    34617\n",
      "24          Mar          Bronx    32232\n",
      "6           Feb          Bronx    28694\n",
      "12          Jan          Bronx    22461\n",
      "23          Jun  Staten Island     1673\n",
      "35          May  Staten Island     1517\n",
      "5           Apr  Staten Island     1068\n",
      "29          Mar  Staten Island      975\n",
      "11          Feb  Staten Island      903\n",
      "17          Jan  Staten Island      821\n",
      "20          Jun            EWR       29\n",
      "32          May            EWR       27\n",
      "26          Mar            EWR       14\n",
      "8           Feb            EWR       14\n",
      "14          Jan            EWR       11\n",
      "2           Apr            EWR       10\n"
     ]
    }
   ],
   "source": [
    "print(pickups_by_mon_bor)"
   ]
  },
  {
   "cell_type": "code",
   "execution_count": 77,
   "id": "5d1fe82f",
   "metadata": {},
   "outputs": [
    {
     "data": {
      "text/plain": [
       "(36, 3)"
      ]
     },
     "execution_count": 77,
     "metadata": {},
     "output_type": "execute_result"
    }
   ],
   "source": [
    "#Проверка размера полученного датасета\n",
    "pickups_by_mon_bor.shape"
   ]
  },
  {
   "cell_type": "code",
   "execution_count": 80,
   "id": "c7660659",
   "metadata": {},
   "outputs": [
    {
     "data": {
      "text/plain": [
       "0        30.0\n",
       "1        30.0\n",
       "2        30.0\n",
       "3        30.0\n",
       "4        30.0\n",
       "         ... \n",
       "29096    75.0\n",
       "29097    75.0\n",
       "29098    75.0\n",
       "29099    75.0\n",
       "29100    75.0\n",
       "Name: temp, Length: 29101, dtype: float64"
      ]
     },
     "execution_count": 80,
     "metadata": {},
     "output_type": "execute_result"
    }
   ],
   "source": [
    "#Данные из колонки темпертур исходного датасета\n",
    "taxi.temp"
   ]
  },
  {
   "cell_type": "code",
   "execution_count": 78,
   "id": "828ea516",
   "metadata": {},
   "outputs": [],
   "source": [
    "#Функция перевода градусов Фаренгейта в Цельсия\n",
    "def temp_to_celcius(series):\n",
    "    return (series - 32) * 5 / 9"
   ]
  },
  {
   "cell_type": "code",
   "execution_count": 79,
   "id": "392a73c5",
   "metadata": {},
   "outputs": [
    {
     "data": {
      "text/plain": [
       "0        -1.111111\n",
       "1        -1.111111\n",
       "2        -1.111111\n",
       "3        -1.111111\n",
       "4        -1.111111\n",
       "           ...    \n",
       "29096    23.888889\n",
       "29097    23.888889\n",
       "29098    23.888889\n",
       "29099    23.888889\n",
       "29100    23.888889\n",
       "Name: temp, Length: 29101, dtype: float64"
      ]
     },
     "execution_count": 79,
     "metadata": {},
     "output_type": "execute_result"
    }
   ],
   "source": [
    "temp_to_celcius(taxi.temp)"
   ]
  },
  {
   "cell_type": "code",
   "execution_count": null,
   "id": "b0ef3586",
   "metadata": {},
   "outputs": [],
   "source": []
  }
 ],
 "metadata": {
  "kernelspec": {
   "display_name": "Python 3 (ipykernel)",
   "language": "python",
   "name": "python3"
  },
  "language_info": {
   "codemirror_mode": {
    "name": "ipython",
    "version": 3
   },
   "file_extension": ".py",
   "mimetype": "text/x-python",
   "name": "python",
   "nbconvert_exporter": "python",
   "pygments_lexer": "ipython3",
   "version": "3.9.12"
  }
 },
 "nbformat": 4,
 "nbformat_minor": 5
}
